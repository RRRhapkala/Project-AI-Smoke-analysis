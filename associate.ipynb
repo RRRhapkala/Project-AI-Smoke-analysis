{
 "cells": [
  {
   "cell_type": "code",
   "execution_count": 1,
   "id": "initial_id",
   "metadata": {
    "collapsed": true,
    "ExecuteTime": {
     "end_time": "2023-12-11T16:37:22.374032100Z",
     "start_time": "2023-12-11T16:37:21.917640500Z"
    }
   },
   "outputs": [],
   "source": [
    "import pandas as pd\n",
    "from mlxtend.frequent_patterns import apriori\n",
    "from mlxtend.frequent_patterns import association_rules"
   ]
  },
  {
   "cell_type": "code",
   "execution_count": 2,
   "outputs": [],
   "source": [
    "smoke_data = pd.read_csv('smoke_detection_iot_New.csv', usecols=['Temperature[C]', 'Humidity[%]', 'TVOC[ppb]', 'eCO2[ppm]',\n",
    "                                                             'Raw H2', 'Raw Ethanol', 'Pressure[hPa]',\n",
    "                                                             'PM1.0', 'PM2.5', 'NC0.5', 'NC1.0', 'NC2.5', 'Fire Alarm'])\n",
    "for column in smoke_data.columns[:1]:\n",
    "    smoke_data[column] = smoke_data[column].apply(lambda x: 1 if x > smoke_data[column].median() else 0)\n",
    "smoke_data['Fire Alarm'] = smoke_data['Fire Alarm'].astype('int')\n",
    "smoke_data_encoded = pd.get_dummies(smoke_data)\n",
    "smoke_data_encoded = smoke_data_encoded.astype(bool)\n",
    "frequent_itemsets = apriori(smoke_data_encoded, min_support=0.01, use_colnames=True)\n",
    "\n",
    "rules = association_rules(frequent_itemsets, metric=\"confidence\", min_threshold=0.8)\n",
    "rules = rules.sort_values(by=\"confidence\", ascending=False)"
   ],
   "metadata": {
    "collapsed": false,
    "ExecuteTime": {
     "end_time": "2023-12-11T16:37:35.704678Z",
     "start_time": "2023-12-11T16:37:22.378057300Z"
    }
   },
   "id": "b6c6222968abb0ec"
  },
  {
   "cell_type": "code",
   "execution_count": 3,
   "outputs": [
    {
     "name": "stdout",
     "output_type": "stream",
     "text": [
      "Top 10 rules Support = MAX\n",
      "                                                                antecedents  \\\n",
      "0                                                          (Temperature[C])   \n",
      "386160                 (Temperature[C], TVOC[ppb], Fire Alarm, Humidity[%])   \n",
      "386150                       (NC2.5, Temperature[C], TVOC[ppb], Fire Alarm)   \n",
      "386144        (TVOC[ppb], PM1.0, Fire Alarm, Pressure[hPa], Temperature[C])   \n",
      "386143        (TVOC[ppb], NC1.0, Fire Alarm, Pressure[hPa], Temperature[C])   \n",
      "386142                (TVOC[ppb], NC1.0, PM1.0, Fire Alarm, Temperature[C])   \n",
      "386141  (TVOC[ppb], Humidity[%], Fire Alarm, Pressure[hPa], Temperature[C])   \n",
      "386140          (TVOC[ppb], Humidity[%], PM1.0, Fire Alarm, Temperature[C])   \n",
      "386139          (TVOC[ppb], NC1.0, Humidity[%], Fire Alarm, Temperature[C])   \n",
      "386132    (eCO2[ppm], TVOC[ppb], Fire Alarm, Pressure[hPa], Temperature[C])   \n",
      "\n",
      "                                                  consequents  \\\n",
      "0                                               (Humidity[%])   \n",
      "386160        (NC2.5, eCO2[ppm], NC1.0, PM1.0, Pressure[hPa])   \n",
      "386150  (eCO2[ppm], Humidity[%], NC1.0, PM1.0, Pressure[hPa])   \n",
      "386144                 (eCO2[ppm], NC2.5, Humidity[%], NC1.0)   \n",
      "386143                 (eCO2[ppm], NC2.5, Humidity[%], PM1.0)   \n",
      "386142         (eCO2[ppm], NC2.5, Pressure[hPa], Humidity[%])   \n",
      "386141                       (eCO2[ppm], NC2.5, PM1.0, NC1.0)   \n",
      "386140               (eCO2[ppm], NC2.5, Pressure[hPa], NC1.0)   \n",
      "386139               (eCO2[ppm], NC2.5, Pressure[hPa], PM1.0)   \n",
      "386132                     (NC2.5, PM1.0, Humidity[%], NC1.0)   \n",
      "\n",
      "        antecedent support  consequent support   support  confidence  \\\n",
      "0                 0.499745            1.000000  0.499745         1.0   \n",
      "386160            0.342999            0.997765  0.342999         1.0   \n",
      "386150            0.342999            0.997765  0.342999         1.0   \n",
      "386144            0.342999            0.998595  0.342999         1.0   \n",
      "386143            0.342999            0.997765  0.342999         1.0   \n",
      "386142            0.342999            0.998595  0.342999         1.0   \n",
      "386141            0.342999            0.997765  0.342999         1.0   \n",
      "386140            0.342999            0.998595  0.342999         1.0   \n",
      "386139            0.342999            0.997765  0.342999         1.0   \n",
      "386132            0.342999            0.997765  0.342999         1.0   \n",
      "\n",
      "            lift  leverage  conviction  zhangs_metric  \n",
      "0       1.000000  0.000000         inf       0.000000  \n",
      "386160  1.002240  0.000767         inf       0.003402  \n",
      "386150  1.002240  0.000767         inf       0.003402  \n",
      "386144  1.001407  0.000482         inf       0.002139  \n",
      "386143  1.002240  0.000767         inf       0.003402  \n",
      "386142  1.001407  0.000482         inf       0.002139  \n",
      "386141  1.002240  0.000767         inf       0.003402  \n",
      "386140  1.001407  0.000482         inf       0.002139  \n",
      "386139  1.002240  0.000767         inf       0.003402  \n",
      "386132  1.002240  0.000767         inf       0.003402  \n"
     ]
    }
   ],
   "source": [
    "top_10_rules = rules.head(10)\n",
    "pd.set_option('display.max_rows', None)\n",
    "pd.set_option('display.max_columns', None)\n",
    "pd.set_option('display.max_colwidth', None)\n",
    "print('Top 10 rules Support = MAX')\n",
    "pd.set_option('display.max_columns', None)\n",
    "print(top_10_rules)"
   ],
   "metadata": {
    "collapsed": false,
    "ExecuteTime": {
     "end_time": "2023-12-11T16:37:35.720945800Z",
     "start_time": "2023-12-11T16:37:35.706681700Z"
    }
   },
   "id": "731273aea1c0b268"
  }
 ],
 "metadata": {
  "kernelspec": {
   "display_name": "Python 3",
   "language": "python",
   "name": "python3"
  },
  "language_info": {
   "codemirror_mode": {
    "name": "ipython",
    "version": 2
   },
   "file_extension": ".py",
   "mimetype": "text/x-python",
   "name": "python",
   "nbconvert_exporter": "python",
   "pygments_lexer": "ipython2",
   "version": "2.7.6"
  }
 },
 "nbformat": 4,
 "nbformat_minor": 5
}
